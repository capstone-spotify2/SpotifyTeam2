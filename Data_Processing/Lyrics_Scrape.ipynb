{
 "cells": [
  {
   "cell_type": "markdown",
   "metadata": {},
   "source": [
    "# Scrape lyrics"
   ]
  },
  {
   "cell_type": "code",
   "execution_count": 4,
   "metadata": {
    "collapsed": false
   },
   "outputs": [],
   "source": [
    "import re\n",
    "import urllib.request\n",
    "from bs4 import BeautifulSoup\n",
    " \n",
    "def get_lyrics(artist,song_title):\n",
    "    artist = artist.lower()\n",
    "    song_title = song_title.lower()\n",
    "    # remove all except alphanumeric characters from artist and song_title\n",
    "    artist = re.sub('[^A-Za-z0-9]+', \"\", artist)\n",
    "    song_title = re.sub('[^A-Za-z0-9]+', \"\", song_title)\n",
    "    if artist.startswith(\"the\"):    # remove starting 'the' from artist e.g. the who -> who\n",
    "        artist = artist[3:]\n",
    "    url = \"http://azlyrics.com/lyrics/\"+artist+\"/\"+song_title+\".html\"\n",
    "    print(url)\n",
    "    \n",
    "    try:\n",
    "        content = urllib.request.urlopen(url).read()\n",
    "        soup = BeautifulSoup(content, 'html.parser')\n",
    "        lyrics = str(soup)\n",
    "        # lyrics lies between up_partition and down_partition\n",
    "        up_partition = '<!-- Usage of azlyrics.com content by any third-party lyrics provider is prohibited by our licensing agreement. Sorry about that. -->'\n",
    "        down_partition = '<!-- MxM banner -->'\n",
    "        lyrics = lyrics.split(up_partition)[1]\n",
    "        lyrics = lyrics.split(down_partition)[0]\n",
    "        lyrics = lyrics.replace('<br>','').replace('</br>','').replace('</div>','').strip()\n",
    "        return lyrics\n",
    "    except Exception as e:\n",
    "        return \"Exception occurred \\n\" +str(e)\n"
   ]
  },
  {
   "cell_type": "code",
   "execution_count": 6,
   "metadata": {
    "collapsed": false
   },
   "outputs": [
    {
     "name": "stdout",
     "output_type": "stream",
     "text": [
      "http://azlyrics.com/lyrics/brunomars/justthewayyouare.html\n"
     ]
    }
   ],
   "source": [
    "l = get_lyrics(\"bruno mars\",\"just the way you are\")"
   ]
  },
  {
   "cell_type": "markdown",
   "metadata": {},
   "source": [
    "# Cleaning lyrics"
   ]
  },
  {
   "cell_type": "code",
   "execution_count": 8,
   "metadata": {
    "collapsed": false
   },
   "outputs": [
    {
     "ename": "AttributeError",
     "evalue": "'str' object has no attribute 'apply'",
     "output_type": "error",
     "traceback": [
      "\u001b[0;31m---------------------------------------------------------------------------\u001b[0m",
      "\u001b[0;31mAttributeError\u001b[0m                            Traceback (most recent call last)",
      "\u001b[0;32m<ipython-input-8-968fa5e30a72>\u001b[0m in \u001b[0;36m<module>\u001b[0;34m()\u001b[0m\n\u001b[1;32m      1\u001b[0m \u001b[0;31m# Convert lyrics to lowercase\u001b[0m\u001b[0;34m\u001b[0m\u001b[0;34m\u001b[0m\u001b[0m\n\u001b[0;32m----> 2\u001b[0;31m \u001b[0mdata\u001b[0m\u001b[0;34m[\u001b[0m\u001b[0;34m'lyrics'\u001b[0m\u001b[0;34m]\u001b[0m \u001b[0;34m=\u001b[0m \u001b[0ml\u001b[0m\u001b[0;34m.\u001b[0m\u001b[0mapply\u001b[0m\u001b[0;34m(\u001b[0m\u001b[0;32mlambda\u001b[0m \u001b[0mx\u001b[0m\u001b[0;34m:\u001b[0m \u001b[0;34m[\u001b[0m\u001b[0my\u001b[0m\u001b[0;34m.\u001b[0m\u001b[0mlower\u001b[0m\u001b[0;34m(\u001b[0m\u001b[0;34m)\u001b[0m \u001b[0;32mfor\u001b[0m \u001b[0my\u001b[0m \u001b[0;32min\u001b[0m \u001b[0mx\u001b[0m\u001b[0;34m]\u001b[0m\u001b[0;34m)\u001b[0m\u001b[0;34m\u001b[0m\u001b[0m\n\u001b[0m",
      "\u001b[0;31mAttributeError\u001b[0m: 'str' object has no attribute 'apply'"
     ]
    }
   ],
   "source": [
    "# Convert lyrics to lowercase\n",
    "data['lyrics'] = l.apply(lambda x: [y.lower() for y in x])"
   ]
  },
  {
   "cell_type": "code",
   "execution_count": null,
   "metadata": {
    "collapsed": true
   },
   "outputs": [],
   "source": [
    "\n",
    "\n",
    "# Remove text between brackets\n",
    "brackets_regex = re.compile('\\[.*?\\]')\n",
    "data['lyrics'] = data.lyrics.apply(lambda x: [brackets_regex.sub(\"\", y) for y in x])\n",
    "\n",
    "# Remove apostrophes\n",
    "apostrophe_regex = re.compile(\"[']\")\n",
    "data['lyrics'] = data.lyrics.apply(lambda x: [apostrophe_regex.sub(\"\", y) for y in x])\n",
    "\n",
    "# Remove punctuation\n",
    "punctuation_regex = re.compile('[^0-9a-zA-Z ]+')\n",
    "data['lyrics'] = data.lyrics.apply(lambda x: [punctuation_regex.sub(\" \", y) for y in x])\n",
    "\n",
    "# Remove double spaces\n",
    "double_space_regex = re.compile('\\s+')\n",
    "data['lyrics'] = data.lyrics.apply(lambda x: [double_space_regex.sub(\" \", y) for y in x])\n",
    "\n",
    "# Print cleaned lyrics\n",
    "data.iloc[0,2]\n",
    "data.iloc[10,2]"
   ]
  }
 ],
 "metadata": {
  "kernelspec": {
   "display_name": "Python [py35]",
   "language": "python",
   "name": "Python [py35]"
  },
  "language_info": {
   "codemirror_mode": {
    "name": "ipython",
    "version": 3
   },
   "file_extension": ".py",
   "mimetype": "text/x-python",
   "name": "python",
   "nbconvert_exporter": "python",
   "pygments_lexer": "ipython3",
   "version": "3.5.2"
  }
 },
 "nbformat": 4,
 "nbformat_minor": 0
}
