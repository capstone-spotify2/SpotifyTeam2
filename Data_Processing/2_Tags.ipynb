{
 "cells": [
  {
   "cell_type": "code",
   "execution_count": 75,
   "metadata": {
    "collapsed": false
   },
   "outputs": [],
   "source": [
    "import os\n",
    "import glob\n",
    "import json\n",
    "from pprint import pprint\n",
    "import collections\n",
    "from operator import itemgetter, attrgetter, methodcaller\n",
    "import matplotlib.pyplot as plt\n",
    "import pandas as pd\n",
    "import numpy as np\n",
    "%matplotlib inline"
   ]
  },
  {
   "cell_type": "code",
   "execution_count": 2,
   "metadata": {
    "collapsed": false
   },
   "outputs": [],
   "source": [
    "# get a list of files\n",
    "list_of_files = []\n",
    "\n",
    "for root, dirs, files in os.walk(\"/Users/Dai/Desktop/Course/Capstone/midterm1/lastfm_subset\"):\n",
    "    for file in files:\n",
    "        if file.endswith(\".json\"):\n",
    "            list_of_files.append(os.path.join(root, file))            "
   ]
  },
  {
   "cell_type": "code",
   "execution_count": 3,
   "metadata": {
    "collapsed": false
   },
   "outputs": [
    {
     "data": {
      "text/plain": [
       "'/Users/Dai/Desktop/Course/Capstone/midterm1/lastfm_subset/A/A/A/TRAAAAW128F429D538.json'"
      ]
     },
     "execution_count": 3,
     "metadata": {},
     "output_type": "execute_result"
    }
   ],
   "source": [
    "list_of_files[0]"
   ]
  },
  {
   "cell_type": "code",
   "execution_count": 4,
   "metadata": {
    "collapsed": false
   },
   "outputs": [
    {
     "name": "stdout",
     "output_type": "stream",
     "text": [
      "{u'artist': u'Casual',\n",
      " u'similars': [[u'TRABACN128F425B784', 0.871737],\n",
      "               [u'TRIAINV12903CB4943', 0.751301],\n",
      "               [u'TRJYGLF12903CB4952', 0.751052],\n",
      "               [u'TRVNXHF128F93134F0', 0.582662],\n",
      "               [u'TRWJMMB128F429D550', 0.508661],\n",
      "               [u'TRUEULA128F425B7DB', 0.404535],\n",
      "               [u'TRIEUIZ128F427973B', 0.028357],\n",
      "               [u'TRWNLAW128F9364539', 0.0278891],\n",
      "               [u'TRWIMTU128F148D424', 0.0227976],\n",
      "               [u'TRPTKMG128F930E997', 0.0198059],\n",
      "               [u'TRQIPME12903CE0A48', 0.0161872],\n",
      "               [u'TRAOGGC128F4215EB5', 0.0158649],\n",
      "               [u'TROIDMT128F428ED1F', 0.0158644],\n",
      "               [u'TRAKXGR128F428686F', 0.0156715],\n",
      "               [u'TRQKESV128F428B3AC', 0.0155405],\n",
      "               [u'TRCRZMU128F931E6C0', 0.0154048],\n",
      "               [u'TRKDOBN12903D0C783', 0.0152418],\n",
      "               [u'TRXVODK12903D0C786', 0.0152418],\n",
      "               [u'TRIVHFX12903D0CCF0', 0.0145524],\n",
      "               [u'TRUZARV12903D0CCE5', 0.0145524],\n",
      "               [u'TRTSCMP12903CB5891', 0.0143529],\n",
      "               [u'TRWGIRJ128F425DCB2', 0.0141029],\n",
      "               [u'TRZEKXA128F9342FFC', 0.0139119],\n",
      "               [u'TRHVRPE128F934DB59', 0.0134494],\n",
      "               [u'TRZYTKI128F42B7B00', 0.0133679],\n",
      "               [u'TRJAUFI128F930D04B', 0.0130971],\n",
      "               [u'TRMXJBM128F145A603', 0.0128361],\n",
      "               [u'TRDBMBY128F934DB61', 0.0127399],\n",
      "               [u'TRAZHAJ128F4289AE1', 0.0125837],\n",
      "               [u'TRZEXUH128F934816E', 0.0123893],\n",
      "               [u'TRSGSNB128F93134FE', 0.0123754],\n",
      "               [u'TRIZNZL128F92F8818', 0.0121462],\n",
      "               [u'TREDUJK12903CF5A86', 0.0120188],\n",
      "               [u'TRFGMHH128F92EED11', 0.0119587],\n",
      "               [u'TRUOTGP128F429B016', 0.011937],\n",
      "               [u'TREQURQ128F92E711F', 0.0117435],\n",
      "               [u'TRCDXMW12903CB64F1', 0.011568],\n",
      "               [u'TRTEZBV128F933863D', 0.011322],\n",
      "               [u'TRASHEO128F933A6F1', 0.011127],\n",
      "               [u'TRDBFNP128F933EBCE', 0.0111053],\n",
      "               [u'TRJNDGW12903CB49E8', 0.0107949],\n",
      "               [u'TRITTDA128F4278BCA', 0.0107713],\n",
      "               [u'TRMZCKA128F933A6FC', 0.0107366],\n",
      "               [u'TRRTKBE128F92E865C', 0.0103999],\n",
      "               [u'TROMXLL128F93221D8', 0.0100093],\n",
      "               [u'TRMYPAA128F428CDC2', 0.00986531],\n",
      "               [u'TRWXSCE128F92FC6AE', 0.00983297],\n",
      "               [u'TRTCRUU128F429F34C', 0.009831],\n",
      "               [u'TRLYIBM128F933B0EA', 0.00942175],\n",
      "               [u'TRICXMC12903CC8A7A', 0.00935076],\n",
      "               [u'TRGHVHI12903CD6DFD', 0.00921705],\n",
      "               [u'TRVXNHI12903CBF3A1', 0.00913571],\n",
      "               [u'TRBOXGO128F93148B7', 0.00903557],\n",
      "               [u'TRHFVQE128F9348164', 0.00897666],\n",
      "               [u'TRLOFDB128F92EED97', 0.00865062],\n",
      "               [u'TRHIHNQ128F92F8954', 0.00849135],\n",
      "               [u'TRICCJR128F42630F2', 0.00847992],\n",
      "               [u'TRLTLII128F4262BB5', 0.00847992],\n",
      "               [u'TRSPPUZ128F92D42F5', 0.00812294],\n",
      "               [u'TRDIXKU128F4276706', 0.00805321],\n",
      "               [u'TRXUIOA128F426DE47', 0.00805321],\n",
      "               [u'TRZRBQH128F934DF59', 0.00805248],\n",
      "               [u'TRSRQXJ128F4236BA4', 0.00805248],\n",
      "               [u'TRMUYLY128F92E734D', 0.00803649],\n",
      "               [u'TRXTAPD128F145A606', 0.00803649],\n",
      "               [u'TRTTVGT128F9322194', 0.00789388],\n",
      "               [u'TRDGEKT128F93221D3', 0.00789388],\n",
      "               [u'TRGCTAI128F93223F1', 0.00786001],\n",
      "               [u'TRLYHQW12903CB4D32', 0.00780776],\n",
      "               [u'TRHSXDE128F1456DD5', 0.00776078],\n",
      "               [u'TRAMLHO128F93224CB', 0.00771633],\n",
      "               [u'TRMPZMN128F93224B3', 0.00771633],\n",
      "               [u'TRBAJMS128EF356971', 0.00767265]],\n",
      " u'tags': [[u'Bay Area', u'100'],\n",
      "           [u'hieroglyiphics', u'100'],\n",
      "           [u'classic', u'50'],\n",
      "           [u'Hip-Hop', u'50'],\n",
      "           [u'stream', u'50'],\n",
      "           [u'OG', u'50'],\n",
      "           [u'1979-2006: A Hip-Hop Odyssey - 800 Tracks In A 48 Minute Mix',\n",
      "            u'50'],\n",
      "           [u'heiroglyphics', u'50'],\n",
      "           [u'oaksterdamn', u'50'],\n",
      "           [u'heard on Pandora', u'0']],\n",
      " u'timestamp': u'2011-08-02 20:13:25.674526',\n",
      " u'title': u\"I Didn't Mean To\",\n",
      " u'track_id': u'TRAAAAW128F429D538'}\n"
     ]
    }
   ],
   "source": [
    "# get contents from files\n",
    "with open(list_of_files[0]) as json_data:\n",
    "    d = json.loads(json_data.read())\n",
    "    json_data.close()\n",
    "    pprint(d)"
   ]
  },
  {
   "cell_type": "code",
   "execution_count": 5,
   "metadata": {
    "collapsed": false
   },
   "outputs": [
    {
     "data": {
      "text/plain": [
       "[[u'Bay Area', u'100'],\n",
       " [u'hieroglyiphics', u'100'],\n",
       " [u'classic', u'50'],\n",
       " [u'Hip-Hop', u'50'],\n",
       " [u'stream', u'50'],\n",
       " [u'OG', u'50'],\n",
       " [u'1979-2006: A Hip-Hop Odyssey - 800 Tracks In A 48 Minute Mix', u'50'],\n",
       " [u'heiroglyphics', u'50'],\n",
       " [u'oaksterdamn', u'50'],\n",
       " [u'heard on Pandora', u'0']]"
      ]
     },
     "execution_count": 5,
     "metadata": {},
     "output_type": "execute_result"
    }
   ],
   "source": [
    "d[u'tags']"
   ]
  },
  {
   "cell_type": "code",
   "execution_count": 6,
   "metadata": {
    "collapsed": false
   },
   "outputs": [],
   "source": [
    "# calculate a dictionary of whole tag set.\n",
    "tags_list = []\n",
    "for fileName in list_of_files:\n",
    "    with open(fileName) as json_data:\n",
    "        d = json.loads(json_data.read())\n",
    "        json_data.close()\n",
    "        tags_list.append(d[u'tags'])"
   ]
  },
  {
   "cell_type": "code",
   "execution_count": 7,
   "metadata": {
    "collapsed": false
   },
   "outputs": [
    {
     "data": {
      "text/plain": [
       "9330"
      ]
     },
     "execution_count": 7,
     "metadata": {},
     "output_type": "execute_result"
    }
   ],
   "source": [
    "# number of tracks in subset\n",
    "len(tags_list)"
   ]
  },
  {
   "cell_type": "code",
   "execution_count": 8,
   "metadata": {
    "collapsed": false
   },
   "outputs": [],
   "source": [
    "tags_dict = {}\n",
    "for track in tags_list:\n",
    "    for tags in track:\n",
    "        tag = tags[0]\n",
    "        if tag in tags_dict:\n",
    "            tags_dict[tag] += 1\n",
    "        else:\n",
    "            tags_dict[tag] = 1"
   ]
  },
  {
   "cell_type": "code",
   "execution_count": 32,
   "metadata": {
    "collapsed": false,
    "scrolled": true
   },
   "outputs": [
    {
     "data": {
      "text/plain": [
       "1161"
      ]
     },
     "execution_count": 32,
     "metadata": {},
     "output_type": "execute_result"
    }
   ],
   "source": [
    "od = collections.OrderedDict(sorted(tags_dict.items(), key=itemgetter(1), reverse = True))\n",
    "od[u'rock']"
   ]
  },
  {
   "cell_type": "code",
   "execution_count": 10,
   "metadata": {
    "collapsed": false
   },
   "outputs": [
    {
     "data": {
      "text/plain": [
       "33355"
      ]
     },
     "execution_count": 10,
     "metadata": {},
     "output_type": "execute_result"
    }
   ],
   "source": [
    "len(tags_dict)"
   ]
  },
  {
   "cell_type": "code",
   "execution_count": 35,
   "metadata": {
    "collapsed": false
   },
   "outputs": [],
   "source": [
    "l = []\n",
    "for item in od:\n",
    "    l.append(od[item])"
   ]
  },
  {
   "cell_type": "code",
   "execution_count": null,
   "metadata": {
    "collapsed": true
   },
   "outputs": [],
   "source": []
  },
  {
   "cell_type": "code",
   "execution_count": 44,
   "metadata": {
    "collapsed": false
   },
   "outputs": [
    {
     "data": {
      "text/plain": [
       "[<matplotlib.lines.Line2D at 0x10ed69350>]"
      ]
     },
     "execution_count": 44,
     "metadata": {},
     "output_type": "execute_result"
    },
    {
     "data": {
      "image/png": "[encoded data removed]",
      "text/plain": [
       "<matplotlib.figure.Figure at 0x10ec4e990>"
      ]
     },
     "metadata": {},
     "output_type": "display_data"
    }
   ],
   "source": [
    "plt.plot(l[:50])"
   ]
  },
  {
   "cell_type": "code",
   "execution_count": 68,
   "metadata": {
    "collapsed": false
   },
   "outputs": [],
   "source": [
    "tags_all = []\n",
    "cannot = 0\n",
    "for fileName in list_of_files:\n",
    "    with open(fileName) as json_data:\n",
    "        d = json.loads(json_data.read())\n",
    "        json_data.close()\n",
    "        tags = d[u'tags']\n",
    "        for tag in tags:\n",
    "            #if isinstance(tag[0], unicode):\n",
    "            #   tags_all.append(tag[0].encode('ascii'))\n",
    "            try:\n",
    "                content = tag[0].encode('ascii')\n",
    "                tags_all.append(content)\n",
    "            except:\n",
    "                cannot += 1"
   ]
  },
  {
   "cell_type": "code",
   "execution_count": 72,
   "metadata": {
    "collapsed": false
   },
   "outputs": [],
   "source": [
    "energy = pd.DataFrame({'word': tags_all})\n",
    "energy.to_csv('tags.csv', index=False)"
   ]
  },
  {
   "cell_type": "code",
   "execution_count": 73,
   "metadata": {
    "collapsed": false
   },
   "outputs": [],
   "source": [
    "#tags_list"
   ]
  },
  {
   "cell_type": "markdown",
   "metadata": {},
   "source": [
    "### group in 4 catagory"
   ]
  },
  {
   "cell_type": "code",
   "execution_count": 81,
   "metadata": {
    "collapsed": false
   },
   "outputs": [
    {
     "data": {
      "text/plain": [
       "(134, 165, 135, 106, 92, 67, 56)"
      ]
     },
     "execution_count": 81,
     "metadata": {},
     "output_type": "execute_result"
    }
   ],
   "source": [
    "# calculate a dictionary of whole tag set.\n",
    "tags_dict['happy'], tags_dict['fun'], tags_dict['upbeat'], tags_dict['summer'], tags_dict['sweet'], tags_dict['Guilty Pleasures'], tags_dict['Dreamy']"
   ]
  },
  {
   "cell_type": "code",
   "execution_count": 82,
   "metadata": {
    "collapsed": false
   },
   "outputs": [
    {
     "data": {
      "text/plain": [
       "(159, 136, 117, 77, 58)"
      ]
     },
     "execution_count": 82,
     "metadata": {},
     "output_type": "execute_result"
    }
   ],
   "source": [
    "tags_dict['sad'], tags_dict['emo'], tags_dict['melancholy'], tags_dict['dark'], tags_dict['nostalgia']"
   ]
  },
  {
   "cell_type": "code",
   "execution_count": 85,
   "metadata": {
    "collapsed": false
   },
   "outputs": [
    {
     "data": {
      "text/plain": [
       "(237, 533, 266, 148, 145, 99, 64, 56)"
      ]
     },
     "execution_count": 85,
     "metadata": {},
     "output_type": "execute_result"
    }
   ],
   "source": [
    "tags_dict['relax']+tags_dict['relaxing'], tags_dict['chill']+tags_dict['chillout'], tags_dict['Mellow'], tags_dict['easy listening'], tags_dict['ambient'], tags_dict['smooth'], tags_dict['trance'], tags_dict['Dreamy']"
   ]
  },
  {
   "cell_type": "code",
   "execution_count": 90,
   "metadata": {
    "collapsed": false
   },
   "outputs": [
    {
     "data": {
      "text/plain": [
       "(39, 351, 172, 135, 165, 63, 53)"
      ]
     },
     "execution_count": 90,
     "metadata": {},
     "output_type": "execute_result"
    }
   ],
   "source": [
    "tags_dict['energy'], tags_dict['dance'], tags_dict['party'], tags_dict['upbeat'],  tags_dict['fun'], tags_dict['club'], tags_dict['powerful']"
   ]
  },
  {
   "cell_type": "code",
   "execution_count": null,
   "metadata": {
    "collapsed": true
   },
   "outputs": [],
   "source": [
    "for fileName in list_of_files:\n",
    "    with open(fileName) as json_data:\n",
    "        d = json.loads(json_data.read())\n",
    "        json_data.close()\n",
    "        tags_list.append(d[u'tags'])"
   ]
  },
  {
   "cell_type": "markdown",
   "metadata": {},
   "source": [
    "# tag selected:\n",
    "\n",
    "### happy, sad, relaxing, energetic"
   ]
  },
  {
   "cell_type": "code",
   "execution_count": 118,
   "metadata": {
    "collapsed": false
   },
   "outputs": [],
   "source": [
    "happyID = []\n",
    "for fileName in list_of_files:\n",
    "    with open(fileName) as json_data:\n",
    "        d = json.loads(json_data.read())\n",
    "        json_data.close()\n",
    "        tags = d[u'tags']\n",
    "        for tag in tags:\n",
    "            if u'energetic' in tag or u'Energetic' in tag:\n",
    "                happyID.append(d[u'track_id'].encode('ascii'))"
   ]
  },
  {
   "cell_type": "code",
   "execution_count": 119,
   "metadata": {
    "collapsed": false
   },
   "outputs": [
    {
     "data": {
      "text/plain": [
       "97"
      ]
     },
     "execution_count": 119,
     "metadata": {},
     "output_type": "execute_result"
    }
   ],
   "source": [
    "len(happyID)"
   ]
  },
  {
   "cell_type": "code",
   "execution_count": null,
   "metadata": {
    "collapsed": true
   },
   "outputs": [],
   "source": []
  }
 ],
 "metadata": {
  "anaconda-cloud": {},
  "kernelspec": {
   "display_name": "Python [Root]",
   "language": "python",
   "name": "Python [Root]"
  },
  "language_info": {
   "codemirror_mode": {
    "name": "ipython",
    "version": 2
   },
   "file_extension": ".py",
   "mimetype": "text/x-python",
   "name": "python",
   "nbconvert_exporter": "python",
   "pygments_lexer": "ipython2",
   "version": "2.7.12"
  }
 },
 "nbformat": 4,
 "nbformat_minor": 0
}
