{
 "cells": [
  {
   "cell_type": "code",
   "execution_count": 8,
   "metadata": {
    "collapsed": true
   },
   "outputs": [],
   "source": [
    "import numpy as np\n",
    "import matplotlib.pyplot as plt\n",
    "import os\n",
    "import pandas as pd\n",
    "import os\n",
    "import glob\n",
    "import json\n",
    "from pprint import pprint\n",
    "import collections\n",
    "from operator import itemgetter, attrgetter, methodcaller\n",
    "import matplotlib.pyplot as plt\n",
    "import pandas as pd\n",
    "import numpy as np\n",
    "import string\n",
    "%matplotlib inline"
   ]
  },
  {
   "cell_type": "markdown",
   "metadata": {},
   "source": [
    "## getting list of file names"
   ]
  },
  {
   "cell_type": "code",
   "execution_count": 2,
   "metadata": {
    "collapsed": true
   },
   "outputs": [],
   "source": [
    "# get a list of files\n",
    "list_of_files = []\n",
    "\n",
    "for root, dirs, files in os.walk(\"lastfm_train/\"):\n",
    "    for file in files:\n",
    "        if file.endswith(\".json\"):\n",
    "            list_of_files.append(os.path.join(root, file)) "
   ]
  },
  {
   "cell_type": "markdown",
   "metadata": {},
   "source": [
    "## getting songs id with tags and match the name and artist with each song in the four tag files"
   ]
  },
  {
   "cell_type": "code",
   "execution_count": 3,
   "metadata": {
    "collapsed": true
   },
   "outputs": [],
   "source": [
    "df_happy = pd.read_csv(\"happy_counts.csv\")\n",
    "df_relax = pd.read_csv(\"relax_counts.csv\")\n",
    "df_energetic = pd.read_csv(\"energetic_counts.csv\")\n",
    "df_sad = pd.read_csv(\"sad_counts.csv\")\n",
    "\n",
    "happy_id = df_happy['track_id'].values\n",
    "sad_id = df_sad['track_id'].values\n",
    "energetic_id = df_energetic['track_id'].values\n",
    "relax_id = df_relax['track_id'].values"
   ]
  },
  {
   "cell_type": "code",
   "execution_count": 4,
   "metadata": {
    "collapsed": false
   },
   "outputs": [
    {
     "name": "stdout",
     "output_type": "stream",
     "text": [
      "0 20000 40000 60000 80000 100000 120000 140000 160000 180000 200000 220000 240000 260000 280000 300000 320000 340000 360000 380000 400000 420000 440000 460000 480000 500000 520000 540000 560000 580000 600000 620000 640000 660000 680000 700000 720000 740000 760000 780000 800000 820000 0 20000 40000 60000 80000 100000 120000 140000 160000 180000 200000 220000 240000 260000 280000 300000 320000 340000 360000 380000 400000 420000 440000 460000 480000 500000 520000 540000 560000 580000 600000 620000 640000 660000 680000 700000 720000 740000 760000 780000 800000 820000\n"
     ]
    }
   ],
   "source": [
    "#gets the track id, title, and artist name from last.fm dataset for all the songs\n",
    "song_info_list = []\n",
    "i = 0\n",
    "for fileName in list_of_files:\n",
    "    if i % 20000 == 0:\n",
    "        print i,\n",
    "    with open(fileName) as json_data:\n",
    "        d = json.loads(json_data.read())\n",
    "        json_data.close()\n",
    "        song_info_list.append([d[u'track_id'].encode('ascii','ignore'),d[u'title'].encode('ascii','ignore'),d[u'artist'].encode('ascii','ignore')])\n",
    "    i+=1\n",
    "#append tags to the songs\n",
    "index = 0\n",
    "for item in song_info_list:\n",
    "    i, j, k = item\n",
    "    tag = ''\n",
    "    if index % 20000 == 0:\n",
    "        print index,\n",
    "    if i in happy_id:\n",
    "        tag = 'happy'\n",
    "    elif i in sad_id:\n",
    "        tag = 'sad'\n",
    "    elif i in relax_id:\n",
    "        tag = 'relax'\n",
    "    elif i in energetic_id:\n",
    "        tag = 'energetic'\n",
    "    item.append(tag)\n",
    "    index += 1"
   ]
  },
  {
   "cell_type": "code",
   "execution_count": 5,
   "metadata": {
    "collapsed": false
   },
   "outputs": [
    {
     "data": {
      "text/html": [
       "<div>\n",
       "<table border=\"1\" class=\"dataframe\">\n",
       "  <thead>\n",
       "    <tr style=\"text-align: right;\">\n",
       "      <th></th>\n",
       "      <th>id</th>\n",
       "      <th>Name</th>\n",
       "      <th>Aritist</th>\n",
       "      <th>tag</th>\n",
       "    </tr>\n",
       "  </thead>\n",
       "  <tbody>\n",
       "    <tr>\n",
       "      <th>0</th>\n",
       "      <td>TRAAAAK128F9318786</td>\n",
       "      <td>Scream</td>\n",
       "      <td>Adelitas Way</td>\n",
       "      <td></td>\n",
       "    </tr>\n",
       "    <tr>\n",
       "      <th>1</th>\n",
       "      <td>TRAAAAV128F421A322</td>\n",
       "      <td>A Poor Recipe For Civic Cohesion</td>\n",
       "      <td>Western Addiction</td>\n",
       "      <td></td>\n",
       "    </tr>\n",
       "    <tr>\n",
       "      <th>2</th>\n",
       "      <td>TRAAAAW128F429D538</td>\n",
       "      <td>I Didn't Mean To</td>\n",
       "      <td>Casual</td>\n",
       "      <td></td>\n",
       "    </tr>\n",
       "    <tr>\n",
       "      <th>3</th>\n",
       "      <td>TRAAABD128F429CF47</td>\n",
       "      <td>Soul Deep</td>\n",
       "      <td>The Box Tops</td>\n",
       "      <td></td>\n",
       "    </tr>\n",
       "    <tr>\n",
       "      <th>4</th>\n",
       "      <td>TRAAACV128F423E09E</td>\n",
       "      <td>Come On (Album Version)</td>\n",
       "      <td>Super Deluxe</td>\n",
       "      <td></td>\n",
       "    </tr>\n",
       "  </tbody>\n",
       "</table>\n",
       "</div>"
      ],
      "text/plain": [
       "                   id                              Name            Aritist tag\n",
       "0  TRAAAAK128F9318786                            Scream       Adelitas Way    \n",
       "1  TRAAAAV128F421A322  A Poor Recipe For Civic Cohesion  Western Addiction    \n",
       "2  TRAAAAW128F429D538                  I Didn't Mean To             Casual    \n",
       "3  TRAAABD128F429CF47                         Soul Deep       The Box Tops    \n",
       "4  TRAAACV128F423E09E           Come On (Album Version)       Super Deluxe    "
      ]
     },
     "execution_count": 5,
     "metadata": {},
     "output_type": "execute_result"
    }
   ],
   "source": [
    "#save to a data frame\n",
    "labels = ['id', 'Name', 'Aritist','tag']\n",
    "df_with_tag = pd.DataFrame.from_records(song_info_list, columns=labels)\n",
    "df_with_tag.head()"
   ]
  },
  {
   "cell_type": "code",
   "execution_count": 6,
   "metadata": {
    "collapsed": true
   },
   "outputs": [],
   "source": [
    "df_new = df_with_tag[df_with_tag['tag']!= '']\n",
    "df_new.to_csv(\"song_info_with_tag.csv\")"
   ]
  },
  {
   "cell_type": "markdown",
   "metadata": {},
   "source": [
    "## generate the name of songs and artists in lowercase for matching the song lyrics "
   ]
  },
  {
   "cell_type": "code",
   "execution_count": 9,
   "metadata": {
    "collapsed": false
   },
   "outputs": [
    {
     "data": {
      "text/html": [
       "<div>\n",
       "<table border=\"1\" class=\"dataframe\">\n",
       "  <thead>\n",
       "    <tr style=\"text-align: right;\">\n",
       "      <th></th>\n",
       "      <th>id</th>\n",
       "      <th>Name</th>\n",
       "      <th>Aritist</th>\n",
       "      <th>tag</th>\n",
       "    </tr>\n",
       "  </thead>\n",
       "  <tbody>\n",
       "    <tr>\n",
       "      <th>8</th>\n",
       "      <td>TRAAAED128E0783FAB</td>\n",
       "      <td>It's About Time</td>\n",
       "      <td>Jamie Cullum</td>\n",
       "      <td>relax</td>\n",
       "    </tr>\n",
       "    <tr>\n",
       "      <th>43</th>\n",
       "      <td>TRAAAZF12903CCCF6B</td>\n",
       "      <td>Break My Stride</td>\n",
       "      <td>Matthew Wilder</td>\n",
       "      <td>happy</td>\n",
       "    </tr>\n",
       "    <tr>\n",
       "      <th>56</th>\n",
       "      <td>TRAABIG128F9356C56</td>\n",
       "      <td>Walk the Walk</td>\n",
       "      <td>Poe</td>\n",
       "      <td>energetic</td>\n",
       "    </tr>\n",
       "    <tr>\n",
       "      <th>101</th>\n",
       "      <td>TRAACER128F4290F96</td>\n",
       "      <td>Setting Fire to Sleeping Giants</td>\n",
       "      <td>The Dillinger Escape Plan</td>\n",
       "      <td>energetic</td>\n",
       "    </tr>\n",
       "    <tr>\n",
       "      <th>144</th>\n",
       "      <td>TRAACZN128F93236B1</td>\n",
       "      <td>Seaweed</td>\n",
       "      <td>Saul Williams</td>\n",
       "      <td>relax</td>\n",
       "    </tr>\n",
       "  </tbody>\n",
       "</table>\n",
       "</div>"
      ],
      "text/plain": [
       "                     id                             Name  \\\n",
       "8    TRAAAED128E0783FAB                  It's About Time   \n",
       "43   TRAAAZF12903CCCF6B                  Break My Stride   \n",
       "56   TRAABIG128F9356C56                    Walk the Walk   \n",
       "101  TRAACER128F4290F96  Setting Fire to Sleeping Giants   \n",
       "144  TRAACZN128F93236B1                          Seaweed   \n",
       "\n",
       "                       Aritist        tag  \n",
       "8                 Jamie Cullum      relax  \n",
       "43              Matthew Wilder      happy  \n",
       "56                         Poe  energetic  \n",
       "101  The Dillinger Escape Plan  energetic  \n",
       "144              Saul Williams      relax  "
      ]
     },
     "execution_count": 9,
     "metadata": {},
     "output_type": "execute_result"
    }
   ],
   "source": [
    "song_name = df_new['Name'].values\n",
    "song_artist = df_new['Aritist'].values\n",
    "df_new.head()"
   ]
  },
  {
   "cell_type": "code",
   "execution_count": 11,
   "metadata": {
    "collapsed": true
   },
   "outputs": [],
   "source": [
    "def scrape(s,a):\n",
    "    exclude = set(string.punctuation)\n",
    "    s = s.lower().replace(\" \", \"\")\n",
    "    a = a.lower().replace(\" \", \"\")\n",
    "    if a.startswith(\"the\"):\n",
    "        a = a.replace(\"the\", \"\")\n",
    "    return ''.join(ch for ch in s if ch not in exclude),''.join(ch for ch in a if ch not in exclude)"
   ]
  },
  {
   "cell_type": "code",
   "execution_count": 12,
   "metadata": {
    "collapsed": false
   },
   "outputs": [
    {
     "data": {
      "text/plain": [
       "[('itsabouttime', 'jamiecullum'),\n",
       " ('breakmystride', 'matthewwilder'),\n",
       " ('walkthewalk', 'poe'),\n",
       " ('settingfiretosleepinggiants', 'dillingerescapeplan'),\n",
       " ('seaweed', 'saulwilliams')]"
      ]
     },
     "execution_count": 12,
     "metadata": {},
     "output_type": "execute_result"
    }
   ],
   "source": [
    "scrape_song = [scrape(song_name[i],song_artist[i]) for i in range(len(song_name))]\n",
    "scrape_song[:5]"
   ]
  },
  {
   "cell_type": "code",
   "execution_count": 13,
   "metadata": {
    "collapsed": true
   },
   "outputs": [],
   "source": [
    "labels = ['Name', 'Aritist']\n",
    "df_2 = pd.DataFrame.from_records(scrape_song, columns=labels)\n",
    "df_2.to_csv(\"Song_Scraping.csv\")"
   ]
  },
  {
   "cell_type": "code",
   "execution_count": 15,
   "metadata": {
    "collapsed": false
   },
   "outputs": [
    {
     "data": {
      "text/html": [
       "<div>\n",
       "<table border=\"1\" class=\"dataframe\">\n",
       "  <thead>\n",
       "    <tr style=\"text-align: right;\">\n",
       "      <th></th>\n",
       "      <th>index</th>\n",
       "      <th>id</th>\n",
       "      <th>Name</th>\n",
       "      <th>Aritist</th>\n",
       "      <th>tag</th>\n",
       "    </tr>\n",
       "  </thead>\n",
       "  <tbody>\n",
       "    <tr>\n",
       "      <th>0</th>\n",
       "      <td>8</td>\n",
       "      <td>TRAAAED128E0783FAB</td>\n",
       "      <td>It's About Time</td>\n",
       "      <td>Jamie Cullum</td>\n",
       "      <td>relax</td>\n",
       "    </tr>\n",
       "    <tr>\n",
       "      <th>1</th>\n",
       "      <td>43</td>\n",
       "      <td>TRAAAZF12903CCCF6B</td>\n",
       "      <td>Break My Stride</td>\n",
       "      <td>Matthew Wilder</td>\n",
       "      <td>happy</td>\n",
       "    </tr>\n",
       "    <tr>\n",
       "      <th>2</th>\n",
       "      <td>56</td>\n",
       "      <td>TRAABIG128F9356C56</td>\n",
       "      <td>Walk the Walk</td>\n",
       "      <td>Poe</td>\n",
       "      <td>energetic</td>\n",
       "    </tr>\n",
       "    <tr>\n",
       "      <th>3</th>\n",
       "      <td>101</td>\n",
       "      <td>TRAACER128F4290F96</td>\n",
       "      <td>Setting Fire to Sleeping Giants</td>\n",
       "      <td>The Dillinger Escape Plan</td>\n",
       "      <td>energetic</td>\n",
       "    </tr>\n",
       "    <tr>\n",
       "      <th>4</th>\n",
       "      <td>144</td>\n",
       "      <td>TRAACZN128F93236B1</td>\n",
       "      <td>Seaweed</td>\n",
       "      <td>Saul Williams</td>\n",
       "      <td>relax</td>\n",
       "    </tr>\n",
       "  </tbody>\n",
       "</table>\n",
       "</div>"
      ],
      "text/plain": [
       "   index                  id                             Name  \\\n",
       "0      8  TRAAAED128E0783FAB                  It's About Time   \n",
       "1     43  TRAAAZF12903CCCF6B                  Break My Stride   \n",
       "2     56  TRAABIG128F9356C56                    Walk the Walk   \n",
       "3    101  TRAACER128F4290F96  Setting Fire to Sleeping Giants   \n",
       "4    144  TRAACZN128F93236B1                          Seaweed   \n",
       "\n",
       "                     Aritist        tag  \n",
       "0               Jamie Cullum      relax  \n",
       "1             Matthew Wilder      happy  \n",
       "2                        Poe  energetic  \n",
       "3  The Dillinger Escape Plan  energetic  \n",
       "4              Saul Williams      relax  "
      ]
     },
     "execution_count": 15,
     "metadata": {},
     "output_type": "execute_result"
    }
   ],
   "source": [
    "df_new = df_new.reset_index()\n",
    "df_new.head()"
   ]
  },
  {
   "cell_type": "markdown",
   "metadata": {},
   "source": [
    "## matching the name artist with lyrcis local location"
   ]
  },
  {
   "cell_type": "code",
   "execution_count": 16,
   "metadata": {
    "collapsed": true
   },
   "outputs": [],
   "source": [
    "def match(song, artist, string):\n",
    "    s = song.split()\n",
    "    st = string.split('_')\n",
    "    l = [1. if i in st[1] else 0. for i in s]\n",
    "    return np.mean(l) >=0.5 and artist in st[0] "
   ]
  },
  {
   "cell_type": "code",
   "execution_count": 18,
   "metadata": {
    "collapsed": false
   },
   "outputs": [
    {
     "name": "stdout",
     "output_type": "stream",
     "text": [
      " i = 0 j = 2 i = 1000 j = 651 i = 2000 j = 1202 i = 3000 j = 1659 i = 4000 j = 2240 i = 5000 j = 2847 i = 6000 j = 3376 i = 7000 j = 3827 i = 8000 j = 4359 i = 9000 j = 4676 i = 10000 j = 5079 i = 11000 j = 5690 i = 12000 j = 5752 i = 13000 j = 5756 i = 14000 j = 5761 i = 15000 j = 5882\n"
     ]
    }
   ],
   "source": [
    "song_lyrics = []\n",
    "j = 1\n",
    "for i in range(len(song_name)):\n",
    "    lyrics = ''\n",
    "    song,artist = song_name[i], song_artist[i]\n",
    "#     if artist.upper().startswith('A') or artist.upper().startswith('T') or artist.upper().startswith('M'):\n",
    "#         for path, subdirs, files in os.walk('./Lyrics/T,M,A/'):\n",
    "#             for name in files:\n",
    "#                 if name.endswith('.txt') and match(song,artist,name):\n",
    "#                     lyrics = os.path.join(path, name)\n",
    "#                     j+=1\n",
    "#                     #time.sleep(1)\n",
    "#     elif artist.upper().startswith('D') or artist.upper().startswith('E') or artist.upper().startswith('F') or artist.upper().startswith('G') or artist.upper().startswith('H') or artist.upper().startswith('I') or artist.upper().startswith('J') or artist.upper().startswith('K') or artist.upper().startswith('L'):\n",
    "#         for path, subdirs, files in os.walk('./Lyrics/lyrics_D_to_L/'):\n",
    "#             for name in files:\n",
    "#                 if name.endswith('.txt') and match(song,artist,name): #and (not name.startswith('mxm') or not name.startswith('user')):\n",
    "#                     lyrics = os.path.join(path, name)\n",
    "#                     j+=1\n",
    "#     elif artist.upper().startswith('N') or artist.upper().startswith('O') or artist.upper().startswith('P'):\n",
    "#         for path, subdirs, files in os.walk('./Lyrics/lyrics_N_to_P/'):\n",
    "#             for name in files:\n",
    "#                 if name.endswith('.txt') and match(song,artist,name): #and (not name.startswith('mxm') or not name.startswith('user')):\n",
    "#                     lyrics = os.path.join(path, name)\n",
    "#                     j+=1\n",
    "    if lyrics == '':\n",
    "        for path, subdirs, files in os.walk('./lyrics_new/'):\n",
    "            for name in files:\n",
    "                if name.endswith('.txt') and list(scrape(song, artist))[0] in name and list(scrape(song, artist))[1] in name: #and (not name.startswith('mxm') or not name.startswith('user')):\n",
    "                    lyrics = os.path.join(path, name)\n",
    "                    j+=1\n",
    "    song_lyrics.append(lyrics)\n",
    "    if i % 1000 ==0:\n",
    "        print \"i = \"+ str(i),\n",
    "        print \"j = \"+ str(j),"
   ]
  },
  {
   "cell_type": "code",
   "execution_count": 19,
   "metadata": {
    "collapsed": true
   },
   "outputs": [],
   "source": [
    "song_id = df_new['id'].values\n",
    "song_tag = df_new['tag'].values\n",
    "z = zip(song_id,song_name,song_artist,song_tag,song_lyrics)"
   ]
  },
  {
   "cell_type": "code",
   "execution_count": 21,
   "metadata": {
    "collapsed": false
   },
   "outputs": [
    {
     "data": {
      "text/html": [
       "<div>\n",
       "<table border=\"1\" class=\"dataframe\">\n",
       "  <thead>\n",
       "    <tr style=\"text-align: right;\">\n",
       "      <th></th>\n",
       "      <th>id</th>\n",
       "      <th>Name</th>\n",
       "      <th>Aritist</th>\n",
       "      <th>tag</th>\n",
       "      <th>Song_txt_loc</th>\n",
       "    </tr>\n",
       "  </thead>\n",
       "  <tbody>\n",
       "    <tr>\n",
       "      <th>0</th>\n",
       "      <td>TRAAAED128E0783FAB</td>\n",
       "      <td>It's About Time</td>\n",
       "      <td>Jamie Cullum</td>\n",
       "      <td>relax</td>\n",
       "      <td>./lyrics_new/jamiecullum_itsabouttime.txt</td>\n",
       "    </tr>\n",
       "    <tr>\n",
       "      <th>1</th>\n",
       "      <td>TRAAAZF12903CCCF6B</td>\n",
       "      <td>Break My Stride</td>\n",
       "      <td>Matthew Wilder</td>\n",
       "      <td>happy</td>\n",
       "      <td></td>\n",
       "    </tr>\n",
       "    <tr>\n",
       "      <th>2</th>\n",
       "      <td>TRAABIG128F9356C56</td>\n",
       "      <td>Walk the Walk</td>\n",
       "      <td>Poe</td>\n",
       "      <td>energetic</td>\n",
       "      <td></td>\n",
       "    </tr>\n",
       "    <tr>\n",
       "      <th>3</th>\n",
       "      <td>TRAACER128F4290F96</td>\n",
       "      <td>Setting Fire to Sleeping Giants</td>\n",
       "      <td>The Dillinger Escape Plan</td>\n",
       "      <td>energetic</td>\n",
       "      <td>./lyrics_new/dillingerescapeplan_settingfireto...</td>\n",
       "    </tr>\n",
       "    <tr>\n",
       "      <th>4</th>\n",
       "      <td>TRAACZN128F93236B1</td>\n",
       "      <td>Seaweed</td>\n",
       "      <td>Saul Williams</td>\n",
       "      <td>relax</td>\n",
       "      <td></td>\n",
       "    </tr>\n",
       "  </tbody>\n",
       "</table>\n",
       "</div>"
      ],
      "text/plain": [
       "                   id                             Name  \\\n",
       "0  TRAAAED128E0783FAB                  It's About Time   \n",
       "1  TRAAAZF12903CCCF6B                  Break My Stride   \n",
       "2  TRAABIG128F9356C56                    Walk the Walk   \n",
       "3  TRAACER128F4290F96  Setting Fire to Sleeping Giants   \n",
       "4  TRAACZN128F93236B1                          Seaweed   \n",
       "\n",
       "                     Aritist        tag  \\\n",
       "0               Jamie Cullum      relax   \n",
       "1             Matthew Wilder      happy   \n",
       "2                        Poe  energetic   \n",
       "3  The Dillinger Escape Plan  energetic   \n",
       "4              Saul Williams      relax   \n",
       "\n",
       "                                        Song_txt_loc  \n",
       "0          ./lyrics_new/jamiecullum_itsabouttime.txt  \n",
       "1                                                     \n",
       "2                                                     \n",
       "3  ./lyrics_new/dillingerescapeplan_settingfireto...  \n",
       "4                                                     "
      ]
     },
     "execution_count": 21,
     "metadata": {},
     "output_type": "execute_result"
    }
   ],
   "source": [
    "labels = ['id', 'Name', 'Aritist','tag','Song_txt_loc']\n",
    "df_with_txt = pd.DataFrame.from_records(z, columns=labels)\n",
    "df_with_txt.head()"
   ]
  },
  {
   "cell_type": "code",
   "execution_count": 23,
   "metadata": {
    "collapsed": false
   },
   "outputs": [
    {
     "data": {
      "text/html": [
       "<div>\n",
       "<table border=\"1\" class=\"dataframe\">\n",
       "  <thead>\n",
       "    <tr style=\"text-align: right;\">\n",
       "      <th></th>\n",
       "      <th>index</th>\n",
       "      <th>id</th>\n",
       "      <th>Name</th>\n",
       "      <th>Aritist</th>\n",
       "      <th>tag</th>\n",
       "      <th>Song_txt_loc</th>\n",
       "    </tr>\n",
       "  </thead>\n",
       "  <tbody>\n",
       "    <tr>\n",
       "      <th>0</th>\n",
       "      <td>0</td>\n",
       "      <td>TRAAAED128E0783FAB</td>\n",
       "      <td>It's About Time</td>\n",
       "      <td>Jamie Cullum</td>\n",
       "      <td>relax</td>\n",
       "      <td>./lyrics_new/jamiecullum_itsabouttime.txt</td>\n",
       "    </tr>\n",
       "    <tr>\n",
       "      <th>1</th>\n",
       "      <td>3</td>\n",
       "      <td>TRAACER128F4290F96</td>\n",
       "      <td>Setting Fire to Sleeping Giants</td>\n",
       "      <td>The Dillinger Escape Plan</td>\n",
       "      <td>energetic</td>\n",
       "      <td>./lyrics_new/dillingerescapeplan_settingfireto...</td>\n",
       "    </tr>\n",
       "    <tr>\n",
       "      <th>2</th>\n",
       "      <td>7</td>\n",
       "      <td>TRAADVO128E07999E9</td>\n",
       "      <td>Oh God</td>\n",
       "      <td>Jamie Cullum</td>\n",
       "      <td>relax</td>\n",
       "      <td>./lyrics_new/jamiecullum_ohgod.txt</td>\n",
       "    </tr>\n",
       "    <tr>\n",
       "      <th>3</th>\n",
       "      <td>8</td>\n",
       "      <td>TRAAFGQ128F427D884</td>\n",
       "      <td>One Last Time</td>\n",
       "      <td>The Kooks</td>\n",
       "      <td>sad</td>\n",
       "      <td>./lyrics_new/kooks_onelasttime.txt</td>\n",
       "    </tr>\n",
       "    <tr>\n",
       "      <th>4</th>\n",
       "      <td>10</td>\n",
       "      <td>TRAAGCZ128F93210FD</td>\n",
       "      <td>Let's Get It Started</td>\n",
       "      <td>Black Eyed Peas</td>\n",
       "      <td>happy</td>\n",
       "      <td>./lyrics_new/blackeyedpeas_letsgetitstarted.txt</td>\n",
       "    </tr>\n",
       "  </tbody>\n",
       "</table>\n",
       "</div>"
      ],
      "text/plain": [
       "   index                  id                             Name  \\\n",
       "0      0  TRAAAED128E0783FAB                  It's About Time   \n",
       "1      3  TRAACER128F4290F96  Setting Fire to Sleeping Giants   \n",
       "2      7  TRAADVO128E07999E9                           Oh God   \n",
       "3      8  TRAAFGQ128F427D884                    One Last Time   \n",
       "4     10  TRAAGCZ128F93210FD             Let's Get It Started   \n",
       "\n",
       "                     Aritist        tag  \\\n",
       "0               Jamie Cullum      relax   \n",
       "1  The Dillinger Escape Plan  energetic   \n",
       "2               Jamie Cullum      relax   \n",
       "3                  The Kooks        sad   \n",
       "4            Black Eyed Peas      happy   \n",
       "\n",
       "                                        Song_txt_loc  \n",
       "0          ./lyrics_new/jamiecullum_itsabouttime.txt  \n",
       "1  ./lyrics_new/dillingerescapeplan_settingfireto...  \n",
       "2                 ./lyrics_new/jamiecullum_ohgod.txt  \n",
       "3                 ./lyrics_new/kooks_onelasttime.txt  \n",
       "4    ./lyrics_new/blackeyedpeas_letsgetitstarted.txt  "
      ]
     },
     "execution_count": 23,
     "metadata": {},
     "output_type": "execute_result"
    }
   ],
   "source": [
    "new_df_with_txt = df_with_txt[df_with_txt['Song_txt_loc'] != '']\n",
    "new_df_with_txt.to_csv(\"song_with_txt_loc_new.csv\")\n",
    "new_df_with_txt = new_df_with_txt.reset_index()\n",
    "new_df_with_txt.head()"
   ]
  },
  {
   "cell_type": "markdown",
   "metadata": {},
   "source": [
    "### function to tokenize lyrics to string form without wired symbols"
   ]
  },
  {
   "cell_type": "code",
   "execution_count": 24,
   "metadata": {
    "collapsed": true
   },
   "outputs": [],
   "source": [
    "import nltk\n",
    "from nltk import word_tokenize\n",
    "def LyricsToSentences(lyrics):\n",
    "    if '\\r' in lyrics:\n",
    "        lines = lyrics.split('\\r')\n",
    "        for i, l in enumerate(lines):\n",
    "            if \"<i>\" in l:\n",
    "                lines[i] = \" \"\n",
    "        lines = ' '.join(lines).replace(\"\\n \\n\", \"\\n\").split(' \\n')\n",
    "        l = ' '\n",
    "        for i in lines:\n",
    "            l+= i\n",
    "        return l\n",
    "    elif \"\\n\\n\" in lyrics:\n",
    "        lines = lyrics.split('\\n')\n",
    "        for i, l in enumerate(lines):\n",
    "            if \"<i>\" in l:\n",
    "                lines[i] = \" \"\n",
    "        lines = ' '.join(lines).split('\\r')\n",
    "        l = ' '\n",
    "        for i in lines:\n",
    "            l+= i\n",
    "        return l"
   ]
  },
  {
   "cell_type": "code",
   "execution_count": 25,
   "metadata": {
    "collapsed": true
   },
   "outputs": [],
   "source": [
    "df_with_txt_val = new_df_with_txt.values.tolist()\n",
    "for i in range(len(df_with_txt_val)):\n",
    "    file_name = df_with_txt_val[i][5]\n",
    "    with open(file_name, 'r') as f:\n",
    "        fa = f.read()#.encode('ascii','ignore')\n",
    "        df_with_txt_val[i].append(LyricsToSentences(fa))"
   ]
  },
  {
   "cell_type": "code",
   "execution_count": 26,
   "metadata": {
    "collapsed": true
   },
   "outputs": [],
   "source": [
    "labels = ['index','id', 'Name', 'Aritist','tag','Song_txt_loc','Song_lyrics']\n",
    "with_txt_val2 = pd.DataFrame.from_records(df_with_txt_val, columns=labels)\n",
    "with_txt_val2.to_csv(\"Song_with_lyrics_new.csv\")"
   ]
  },
  {
   "cell_type": "code",
   "execution_count": 27,
   "metadata": {
    "collapsed": false
   },
   "outputs": [
    {
     "data": {
      "text/html": [
       "<div>\n",
       "<table border=\"1\" class=\"dataframe\">\n",
       "  <thead>\n",
       "    <tr style=\"text-align: right;\">\n",
       "      <th></th>\n",
       "      <th>Unnamed: 0</th>\n",
       "      <th>index</th>\n",
       "      <th>id</th>\n",
       "      <th>Name</th>\n",
       "      <th>Aritist</th>\n",
       "      <th>tag</th>\n",
       "      <th>Song_txt_loc</th>\n",
       "      <th>Song_lyrics</th>\n",
       "    </tr>\n",
       "  </thead>\n",
       "  <tbody>\n",
       "    <tr>\n",
       "      <th>0</th>\n",
       "      <td>0</td>\n",
       "      <td>0</td>\n",
       "      <td>TRAAAED128E0783FAB</td>\n",
       "      <td>It's About Time</td>\n",
       "      <td>Jamie Cullum</td>\n",
       "      <td>relax</td>\n",
       "      <td>./lyrics_new/jamiecullum_itsabouttime.txt</td>\n",
       "      <td>Walking down to the water's edgeWhere I have ...</td>\n",
       "    </tr>\n",
       "    <tr>\n",
       "      <th>1</th>\n",
       "      <td>1</td>\n",
       "      <td>3</td>\n",
       "      <td>TRAACER128F4290F96</td>\n",
       "      <td>Setting Fire to Sleeping Giants</td>\n",
       "      <td>The Dillinger Escape Plan</td>\n",
       "      <td>energetic</td>\n",
       "      <td>./lyrics_new/dillingerescapeplan_settingfireto...</td>\n",
       "      <td>First off Let me say you look so tired... Res...</td>\n",
       "    </tr>\n",
       "    <tr>\n",
       "      <th>2</th>\n",
       "      <td>2</td>\n",
       "      <td>7</td>\n",
       "      <td>TRAADVO128E07999E9</td>\n",
       "      <td>Oh God</td>\n",
       "      <td>Jamie Cullum</td>\n",
       "      <td>relax</td>\n",
       "      <td>./lyrics_new/jamiecullum_ohgod.txt</td>\n",
       "      <td>I know it's been a while since I have talked ...</td>\n",
       "    </tr>\n",
       "    <tr>\n",
       "      <th>3</th>\n",
       "      <td>3</td>\n",
       "      <td>8</td>\n",
       "      <td>TRAAFGQ128F427D884</td>\n",
       "      <td>One Last Time</td>\n",
       "      <td>The Kooks</td>\n",
       "      <td>sad</td>\n",
       "      <td>./lyrics_new/kooks_onelasttime.txt</td>\n",
       "      <td>Can I hold you one last time To fight the fee...</td>\n",
       "    </tr>\n",
       "    <tr>\n",
       "      <th>4</th>\n",
       "      <td>4</td>\n",
       "      <td>10</td>\n",
       "      <td>TRAAGCZ128F93210FD</td>\n",
       "      <td>Let's Get It Started</td>\n",
       "      <td>Black Eyed Peas</td>\n",
       "      <td>happy</td>\n",
       "      <td>./lyrics_new/blackeyedpeas_letsgetitstarted.txt</td>\n",
       "      <td>Let's get it started in here...  And the bass...</td>\n",
       "    </tr>\n",
       "  </tbody>\n",
       "</table>\n",
       "</div>"
      ],
      "text/plain": [
       "   Unnamed: 0  index                  id                             Name  \\\n",
       "0           0      0  TRAAAED128E0783FAB                  It's About Time   \n",
       "1           1      3  TRAACER128F4290F96  Setting Fire to Sleeping Giants   \n",
       "2           2      7  TRAADVO128E07999E9                           Oh God   \n",
       "3           3      8  TRAAFGQ128F427D884                    One Last Time   \n",
       "4           4     10  TRAAGCZ128F93210FD             Let's Get It Started   \n",
       "\n",
       "                     Aritist        tag  \\\n",
       "0               Jamie Cullum      relax   \n",
       "1  The Dillinger Escape Plan  energetic   \n",
       "2               Jamie Cullum      relax   \n",
       "3                  The Kooks        sad   \n",
       "4            Black Eyed Peas      happy   \n",
       "\n",
       "                                        Song_txt_loc  \\\n",
       "0          ./lyrics_new/jamiecullum_itsabouttime.txt   \n",
       "1  ./lyrics_new/dillingerescapeplan_settingfireto...   \n",
       "2                 ./lyrics_new/jamiecullum_ohgod.txt   \n",
       "3                 ./lyrics_new/kooks_onelasttime.txt   \n",
       "4    ./lyrics_new/blackeyedpeas_letsgetitstarted.txt   \n",
       "\n",
       "                                         Song_lyrics  \n",
       "0   Walking down to the water's edgeWhere I have ...  \n",
       "1   First off Let me say you look so tired... Res...  \n",
       "2   I know it's been a while since I have talked ...  \n",
       "3   Can I hold you one last time To fight the fee...  \n",
       "4   Let's get it started in here...  And the bass...  "
      ]
     },
     "execution_count": 27,
     "metadata": {},
     "output_type": "execute_result"
    }
   ],
   "source": [
    "pd.read_csv(\"Song_with_lyrics_new.csv\").head()"
   ]
  },
  {
   "cell_type": "code",
   "execution_count": null,
   "metadata": {
    "collapsed": true
   },
   "outputs": [],
   "source": []
  }
 ],
 "metadata": {
  "kernelspec": {
   "display_name": "Python [Root]",
   "language": "python",
   "name": "Python [Root]"
  },
  "language_info": {
   "codemirror_mode": {
    "name": "ipython",
    "version": 2
   },
   "file_extension": ".py",
   "mimetype": "text/x-python",
   "name": "python",
   "nbconvert_exporter": "python",
   "pygments_lexer": "ipython2",
   "version": "2.7.12"
  }
 },
 "nbformat": 4,
 "nbformat_minor": 0
}
