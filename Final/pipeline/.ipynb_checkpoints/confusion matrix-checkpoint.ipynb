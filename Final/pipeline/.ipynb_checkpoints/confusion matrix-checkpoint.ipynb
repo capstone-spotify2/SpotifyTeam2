{
 "cells": [
  {
   "cell_type": "code",
   "execution_count": 1,
   "metadata": {
    "collapsed": true
   },
   "outputs": [],
   "source": [
    "import pandas as pd\n",
    "import numpy as np\n",
    "import cPickle"
   ]
  },
  {
   "cell_type": "code",
   "execution_count": 2,
   "metadata": {
    "collapsed": true
   },
   "outputs": [],
   "source": [
    "feature = pd.read_csv(\"./features.csv\",header = None)"
   ]
  },
  {
   "cell_type": "code",
   "execution_count": 3,
   "metadata": {
    "collapsed": false
   },
   "outputs": [
    {
     "data": {
      "text/plain": [
       "0            relax\n",
       "1        energetic\n",
       "2            relax\n",
       "3              sad\n",
       "4              sad\n",
       "5              sad\n",
       "6        energetic\n",
       "7            relax\n",
       "8            happy\n",
       "9            happy\n",
       "10           happy\n",
       "11             sad\n",
       "12       energetic\n",
       "13           happy\n",
       "14           relax\n",
       "15           relax\n",
       "16           happy\n",
       "17             sad\n",
       "18           relax\n",
       "19       energetic\n",
       "20           relax\n",
       "21             sad\n",
       "22           relax\n",
       "23             sad\n",
       "24       energetic\n",
       "25           relax\n",
       "26           happy\n",
       "27           happy\n",
       "28           relax\n",
       "29           happy\n",
       "           ...    \n",
       "17334    religious\n",
       "17335    religious\n",
       "17336    religious\n",
       "17337    religious\n",
       "17338    religious\n",
       "17339    religious\n",
       "17340    religious\n",
       "17341    religious\n",
       "17342    religious\n",
       "17343    religious\n",
       "17344    religious\n",
       "17345    religious\n",
       "17346    religious\n",
       "17347    religious\n",
       "17348    religious\n",
       "17349    religious\n",
       "17350    religious\n",
       "17351    religious\n",
       "17352    religious\n",
       "17353    religious\n",
       "17354    religious\n",
       "17355    religious\n",
       "17356    religious\n",
       "17357    religious\n",
       "17358    religious\n",
       "17359    religious\n",
       "17360    religious\n",
       "17361    religious\n",
       "17362    religious\n",
       "17363    religious\n",
       "Name: 150, dtype: object"
      ]
     },
     "execution_count": 3,
     "metadata": {},
     "output_type": "execute_result"
    }
   ],
   "source": [
    "feature[150]"
   ]
  },
  {
   "cell_type": "code",
   "execution_count": 4,
   "metadata": {
    "collapsed": true
   },
   "outputs": [],
   "source": [
    "labels = feature[150]"
   ]
  },
  {
   "cell_type": "code",
   "execution_count": 5,
   "metadata": {
    "collapsed": false
   },
   "outputs": [],
   "source": [
    "label_count = labels.value_counts().to_dict()"
   ]
  },
  {
   "cell_type": "code",
   "execution_count": 24,
   "metadata": {
    "collapsed": false
   },
   "outputs": [],
   "source": [
    "df_train = pd.DataFrame()\n",
    "df_test = pd.DataFrame()\n",
    "for i in label_count.keys():\n",
    "    df_train = df_train.append(feature[feature[150] == i].iloc[:int(3.0*label_count[i]/5.0)])\n",
    "    df_test = df_test.append(feature[feature[150]==i].iloc[int(3.0*label_count[i]/5.0):])"
   ]
  },
  {
   "cell_type": "code",
   "execution_count": 25,
   "metadata": {
    "collapsed": false
   },
   "outputs": [
    {
     "data": {
      "text/plain": [
       "((10411, 151), (6953, 151))"
      ]
     },
     "execution_count": 25,
     "metadata": {},
     "output_type": "execute_result"
    }
   ],
   "source": [
    "df_train.shape,df_test.shape"
   ]
  },
  {
   "cell_type": "code",
   "execution_count": 69,
   "metadata": {
    "collapsed": false
   },
   "outputs": [
    {
     "name": "stdout",
     "output_type": "stream",
     "text": [
      "Running Model...\n"
     ]
    },
    {
     "data": {
      "text/plain": [
       "RandomForestClassifier(bootstrap=True, class_weight='balanced',\n",
       "            criterion='gini', max_depth=10, max_features='auto',\n",
       "            max_leaf_nodes=None, min_impurity_split=1e-07,\n",
       "            min_samples_leaf=1, min_samples_split=2,\n",
       "            min_weight_fraction_leaf=0.0, n_estimators=20, n_jobs=1,\n",
       "            oob_score=False, random_state=None, verbose=0,\n",
       "            warm_start=False)"
      ]
     },
     "execution_count": 69,
     "metadata": {},
     "output_type": "execute_result"
    }
   ],
   "source": [
    "from sklearn.ensemble import RandomForestClassifier\n",
    "train_x = df_train.values[:,:-1]\n",
    "train_y = df_train.values[:,-1]\n",
    "print(\"Running Model...\")\n",
    "rf = RandomForestClassifier(n_estimators = 20, max_depth =10,class_weight = \"balanced\")\n",
    "rf.fit(train_x, train_y)"
   ]
  },
  {
   "cell_type": "code",
   "execution_count": 71,
   "metadata": {
    "collapsed": false
   },
   "outputs": [],
   "source": [
    "test_x = df_test.values[:,:-1]\n",
    "test_y = df_test.values[:,-1]\n",
    "rf.predict_proba(test_x)\n",
    "y_hat = rf.predict(test_x)"
   ]
  },
  {
   "cell_type": "code",
   "execution_count": 59,
   "metadata": {
    "collapsed": false
   },
   "outputs": [],
   "source": [
    "prob = rf.predict_proba(test_x)\n",
    "labels = rf.classes_\n",
    "df = pd.DataFrame.from_records(prob,columns=labels)\n",
    "list_prob = []\n",
    "for j in range(len(df)):\n",
    "    rank = zip(labels, df.loc[j].values)\n",
    "    pr = []\n",
    "    for i in range(3):\n",
    "        tag,prob = sorted(rank, key=lambda x: -x[1])[i]\n",
    "        pr.append(tag)\n",
    "    list_prob.append(pr)\n",
    "df_res = pd.DataFrame.from_records(list_prob)\n",
    "df_full = pd.concat([df,df_res],axis=1)\n",
    "y_hat = rf.predict(test_x)\n",
    "\n",
    "import time\n",
    "count = 0\n",
    "label_dict = dict()\n",
    "for j in range(len(df_full)):\n",
    "    value = df_full.loc[j][-3:].values\n",
    "    if feature[150].iloc[j] in value:\n",
    "        if label_dict.has_key(feature[150].iloc[j]):\n",
    "            label_dict[feature[150].iloc[j]] += 1\n",
    "        else:\n",
    "            label_dict[feature[150].iloc[j]] = 1\n",
    "        count += 1\n",
    "    else:\n",
    "        if label_dict.has_key(feature[150].iloc[j]+'_no'):\n",
    "            label_dict[feature[150].iloc[j]+'_no'] += 1\n",
    "        else:\n",
    "            label_dict[feature[150].iloc[j]+'_no'] = 1\n",
    "        \n",
    "        \n",
    "        \n",
    "#         print y_hat[j],value,j\n",
    "#         time.sleep(1)"
   ]
  },
  {
   "cell_type": "code",
   "execution_count": 60,
   "metadata": {
    "collapsed": false
   },
   "outputs": [
    {
     "name": "stdout",
     "output_type": "stream",
     "text": [
      "0.194160793902\n"
     ]
    }
   ],
   "source": [
    "print 1.0*count/df_test.shape[0]"
   ]
  },
  {
   "cell_type": "code",
   "execution_count": 61,
   "metadata": {
    "collapsed": false
   },
   "outputs": [
    {
     "data": {
      "text/plain": [
       "{'christmas': 34,\n",
       " 'christmas_no': 227,\n",
       " 'dark': 54,\n",
       " 'dark_no': 325,\n",
       " 'emotional': 158,\n",
       " 'emotional_no': 495,\n",
       " 'energetic': 109,\n",
       " 'energetic_no': 397,\n",
       " 'freedom': 19,\n",
       " 'freedom_no': 130,\n",
       " 'funny': 54,\n",
       " 'funny_no': 212,\n",
       " 'grunge': 70,\n",
       " 'grunge_no': 461,\n",
       " 'halloween': 3,\n",
       " 'halloween_no': 62,\n",
       " 'happy': 308,\n",
       " 'happy_no': 815,\n",
       " 'party': 214,\n",
       " 'party_no': 654,\n",
       " 'political': 73,\n",
       " 'political_no': 197,\n",
       " 'rain': 2,\n",
       " 'rain_no': 45,\n",
       " 'relax': 64,\n",
       " 'relax_no': 467,\n",
       " 'sad': 188,\n",
       " 'sad_no': 1116}"
      ]
     },
     "execution_count": 61,
     "metadata": {},
     "output_type": "execute_result"
    }
   ],
   "source": [
    "label_dict"
   ]
  },
  {
   "cell_type": "code",
   "execution_count": 72,
   "metadata": {
    "collapsed": true
   },
   "outputs": [],
   "source": [
    "conf_matrix = pd.DataFrame(np.zeros((17,17)), columns= labels, index = labels)"
   ]
  },
  {
   "cell_type": "code",
   "execution_count": 73,
   "metadata": {
    "collapsed": false
   },
   "outputs": [],
   "source": [
    "for j in range(len(df_test)):\n",
    "    conf_matrix.set_value(y_hat[j],test_y[j], conf_matrix.get_value(y_hat[j],test_y[j])+1)"
   ]
  },
  {
   "cell_type": "code",
   "execution_count": 81,
   "metadata": {
    "collapsed": false
   },
   "outputs": [
    {
     "data": {
      "text/html": [
       "<div>\n",
       "<table border=\"1\" class=\"dataframe\">\n",
       "  <thead>\n",
       "    <tr style=\"text-align: right;\">\n",
       "      <th></th>\n",
       "      <th>christmas</th>\n",
       "      <th>dark</th>\n",
       "      <th>emotional</th>\n",
       "      <th>energetic</th>\n",
       "      <th>freedom</th>\n",
       "      <th>funny</th>\n",
       "      <th>grunge</th>\n",
       "      <th>halloween</th>\n",
       "      <th>happy</th>\n",
       "      <th>love</th>\n",
       "      <th>memory</th>\n",
       "      <th>party</th>\n",
       "      <th>political</th>\n",
       "      <th>rain</th>\n",
       "      <th>relax</th>\n",
       "      <th>religious</th>\n",
       "      <th>sad</th>\n",
       "    </tr>\n",
       "  </thead>\n",
       "  <tbody>\n",
       "    <tr>\n",
       "      <th>christmas</th>\n",
       "      <td>0.217593</td>\n",
       "      <td>0.043981</td>\n",
       "      <td>0.050926</td>\n",
       "      <td>0.027778</td>\n",
       "      <td>0.011574</td>\n",
       "      <td>0.018519</td>\n",
       "      <td>0.057870</td>\n",
       "      <td>0.006944</td>\n",
       "      <td>0.043981</td>\n",
       "      <td>0.215278</td>\n",
       "      <td>0.050926</td>\n",
       "      <td>0.055556</td>\n",
       "      <td>0.034722</td>\n",
       "      <td>0.000000</td>\n",
       "      <td>0.023148</td>\n",
       "      <td>0.074074</td>\n",
       "      <td>0.067130</td>\n",
       "    </tr>\n",
       "    <tr>\n",
       "      <th>dark</th>\n",
       "      <td>0.023649</td>\n",
       "      <td>0.158784</td>\n",
       "      <td>0.064189</td>\n",
       "      <td>0.037162</td>\n",
       "      <td>0.020270</td>\n",
       "      <td>0.016892</td>\n",
       "      <td>0.074324</td>\n",
       "      <td>0.003378</td>\n",
       "      <td>0.054054</td>\n",
       "      <td>0.273649</td>\n",
       "      <td>0.033784</td>\n",
       "      <td>0.047297</td>\n",
       "      <td>0.064189</td>\n",
       "      <td>0.003378</td>\n",
       "      <td>0.013514</td>\n",
       "      <td>0.033784</td>\n",
       "      <td>0.077703</td>\n",
       "    </tr>\n",
       "    <tr>\n",
       "      <th>emotional</th>\n",
       "      <td>0.010479</td>\n",
       "      <td>0.034431</td>\n",
       "      <td>0.163174</td>\n",
       "      <td>0.029940</td>\n",
       "      <td>0.011976</td>\n",
       "      <td>0.028443</td>\n",
       "      <td>0.068862</td>\n",
       "      <td>0.010479</td>\n",
       "      <td>0.047904</td>\n",
       "      <td>0.317365</td>\n",
       "      <td>0.043413</td>\n",
       "      <td>0.079341</td>\n",
       "      <td>0.023952</td>\n",
       "      <td>0.004491</td>\n",
       "      <td>0.022455</td>\n",
       "      <td>0.047904</td>\n",
       "      <td>0.055389</td>\n",
       "    </tr>\n",
       "    <tr>\n",
       "      <th>energetic</th>\n",
       "      <td>0.014265</td>\n",
       "      <td>0.044223</td>\n",
       "      <td>0.069900</td>\n",
       "      <td>0.031384</td>\n",
       "      <td>0.011412</td>\n",
       "      <td>0.032810</td>\n",
       "      <td>0.064194</td>\n",
       "      <td>0.007133</td>\n",
       "      <td>0.089872</td>\n",
       "      <td>0.313837</td>\n",
       "      <td>0.057061</td>\n",
       "      <td>0.104137</td>\n",
       "      <td>0.018545</td>\n",
       "      <td>0.002853</td>\n",
       "      <td>0.025678</td>\n",
       "      <td>0.044223</td>\n",
       "      <td>0.068474</td>\n",
       "    </tr>\n",
       "    <tr>\n",
       "      <th>freedom</th>\n",
       "      <td>0.010499</td>\n",
       "      <td>0.034121</td>\n",
       "      <td>0.049869</td>\n",
       "      <td>0.034121</td>\n",
       "      <td>0.057743</td>\n",
       "      <td>0.018373</td>\n",
       "      <td>0.060367</td>\n",
       "      <td>0.002625</td>\n",
       "      <td>0.065617</td>\n",
       "      <td>0.304462</td>\n",
       "      <td>0.065617</td>\n",
       "      <td>0.157480</td>\n",
       "      <td>0.028871</td>\n",
       "      <td>0.002625</td>\n",
       "      <td>0.028871</td>\n",
       "      <td>0.018373</td>\n",
       "      <td>0.060367</td>\n",
       "    </tr>\n",
       "    <tr>\n",
       "      <th>funny</th>\n",
       "      <td>0.006289</td>\n",
       "      <td>0.022013</td>\n",
       "      <td>0.091195</td>\n",
       "      <td>0.018868</td>\n",
       "      <td>0.025157</td>\n",
       "      <td>0.094340</td>\n",
       "      <td>0.053459</td>\n",
       "      <td>0.012579</td>\n",
       "      <td>0.078616</td>\n",
       "      <td>0.267296</td>\n",
       "      <td>0.034591</td>\n",
       "      <td>0.125786</td>\n",
       "      <td>0.037736</td>\n",
       "      <td>0.003145</td>\n",
       "      <td>0.025157</td>\n",
       "      <td>0.031447</td>\n",
       "      <td>0.072327</td>\n",
       "    </tr>\n",
       "    <tr>\n",
       "      <th>grunge</th>\n",
       "      <td>0.011858</td>\n",
       "      <td>0.059289</td>\n",
       "      <td>0.055336</td>\n",
       "      <td>0.035573</td>\n",
       "      <td>0.015810</td>\n",
       "      <td>0.023715</td>\n",
       "      <td>0.158103</td>\n",
       "      <td>0.000000</td>\n",
       "      <td>0.071146</td>\n",
       "      <td>0.229249</td>\n",
       "      <td>0.059289</td>\n",
       "      <td>0.059289</td>\n",
       "      <td>0.039526</td>\n",
       "      <td>0.007905</td>\n",
       "      <td>0.031621</td>\n",
       "      <td>0.043478</td>\n",
       "      <td>0.098814</td>\n",
       "    </tr>\n",
       "    <tr>\n",
       "      <th>halloween</th>\n",
       "      <td>0.015152</td>\n",
       "      <td>0.060606</td>\n",
       "      <td>0.068182</td>\n",
       "      <td>0.045455</td>\n",
       "      <td>0.007576</td>\n",
       "      <td>0.007576</td>\n",
       "      <td>0.075758</td>\n",
       "      <td>0.106061</td>\n",
       "      <td>0.083333</td>\n",
       "      <td>0.189394</td>\n",
       "      <td>0.030303</td>\n",
       "      <td>0.075758</td>\n",
       "      <td>0.037879</td>\n",
       "      <td>0.000000</td>\n",
       "      <td>0.037879</td>\n",
       "      <td>0.053030</td>\n",
       "      <td>0.106061</td>\n",
       "    </tr>\n",
       "    <tr>\n",
       "      <th>happy</th>\n",
       "      <td>0.015564</td>\n",
       "      <td>0.038911</td>\n",
       "      <td>0.058366</td>\n",
       "      <td>0.042802</td>\n",
       "      <td>0.011673</td>\n",
       "      <td>0.054475</td>\n",
       "      <td>0.062257</td>\n",
       "      <td>0.007782</td>\n",
       "      <td>0.101167</td>\n",
       "      <td>0.272374</td>\n",
       "      <td>0.050584</td>\n",
       "      <td>0.097276</td>\n",
       "      <td>0.038911</td>\n",
       "      <td>0.003891</td>\n",
       "      <td>0.019455</td>\n",
       "      <td>0.050584</td>\n",
       "      <td>0.073930</td>\n",
       "    </tr>\n",
       "    <tr>\n",
       "      <th>love</th>\n",
       "      <td>0.011737</td>\n",
       "      <td>0.024257</td>\n",
       "      <td>0.043818</td>\n",
       "      <td>0.019562</td>\n",
       "      <td>0.013302</td>\n",
       "      <td>0.010172</td>\n",
       "      <td>0.035211</td>\n",
       "      <td>0.002347</td>\n",
       "      <td>0.064945</td>\n",
       "      <td>0.505477</td>\n",
       "      <td>0.049296</td>\n",
       "      <td>0.077465</td>\n",
       "      <td>0.008607</td>\n",
       "      <td>0.003130</td>\n",
       "      <td>0.023474</td>\n",
       "      <td>0.037559</td>\n",
       "      <td>0.069640</td>\n",
       "    </tr>\n",
       "    <tr>\n",
       "      <th>memory</th>\n",
       "      <td>0.009119</td>\n",
       "      <td>0.033435</td>\n",
       "      <td>0.085106</td>\n",
       "      <td>0.012158</td>\n",
       "      <td>0.006079</td>\n",
       "      <td>0.030395</td>\n",
       "      <td>0.027356</td>\n",
       "      <td>0.000000</td>\n",
       "      <td>0.063830</td>\n",
       "      <td>0.306991</td>\n",
       "      <td>0.139818</td>\n",
       "      <td>0.082067</td>\n",
       "      <td>0.024316</td>\n",
       "      <td>0.006079</td>\n",
       "      <td>0.051672</td>\n",
       "      <td>0.066869</td>\n",
       "      <td>0.054711</td>\n",
       "    </tr>\n",
       "    <tr>\n",
       "      <th>party</th>\n",
       "      <td>0.015337</td>\n",
       "      <td>0.027607</td>\n",
       "      <td>0.052147</td>\n",
       "      <td>0.036810</td>\n",
       "      <td>0.012270</td>\n",
       "      <td>0.039877</td>\n",
       "      <td>0.042945</td>\n",
       "      <td>0.006135</td>\n",
       "      <td>0.055215</td>\n",
       "      <td>0.239264</td>\n",
       "      <td>0.058282</td>\n",
       "      <td>0.279141</td>\n",
       "      <td>0.021472</td>\n",
       "      <td>0.006135</td>\n",
       "      <td>0.024540</td>\n",
       "      <td>0.015337</td>\n",
       "      <td>0.067485</td>\n",
       "    </tr>\n",
       "    <tr>\n",
       "      <th>political</th>\n",
       "      <td>0.023973</td>\n",
       "      <td>0.061644</td>\n",
       "      <td>0.071918</td>\n",
       "      <td>0.032534</td>\n",
       "      <td>0.018836</td>\n",
       "      <td>0.030822</td>\n",
       "      <td>0.058219</td>\n",
       "      <td>0.005137</td>\n",
       "      <td>0.066781</td>\n",
       "      <td>0.208904</td>\n",
       "      <td>0.044521</td>\n",
       "      <td>0.099315</td>\n",
       "      <td>0.085616</td>\n",
       "      <td>0.001712</td>\n",
       "      <td>0.041096</td>\n",
       "      <td>0.061644</td>\n",
       "      <td>0.087329</td>\n",
       "    </tr>\n",
       "    <tr>\n",
       "      <th>rain</th>\n",
       "      <td>0.012658</td>\n",
       "      <td>0.037975</td>\n",
       "      <td>0.088608</td>\n",
       "      <td>0.025316</td>\n",
       "      <td>0.012658</td>\n",
       "      <td>0.000000</td>\n",
       "      <td>0.050633</td>\n",
       "      <td>0.012658</td>\n",
       "      <td>0.075949</td>\n",
       "      <td>0.253165</td>\n",
       "      <td>0.050633</td>\n",
       "      <td>0.050633</td>\n",
       "      <td>0.012658</td>\n",
       "      <td>0.113924</td>\n",
       "      <td>0.037975</td>\n",
       "      <td>0.025316</td>\n",
       "      <td>0.139241</td>\n",
       "    </tr>\n",
       "    <tr>\n",
       "      <th>relax</th>\n",
       "      <td>0.020833</td>\n",
       "      <td>0.055556</td>\n",
       "      <td>0.097222</td>\n",
       "      <td>0.041667</td>\n",
       "      <td>0.000000</td>\n",
       "      <td>0.000000</td>\n",
       "      <td>0.048611</td>\n",
       "      <td>0.000000</td>\n",
       "      <td>0.013889</td>\n",
       "      <td>0.381944</td>\n",
       "      <td>0.055556</td>\n",
       "      <td>0.069444</td>\n",
       "      <td>0.013889</td>\n",
       "      <td>0.013889</td>\n",
       "      <td>0.055556</td>\n",
       "      <td>0.034722</td>\n",
       "      <td>0.097222</td>\n",
       "    </tr>\n",
       "    <tr>\n",
       "      <th>religious</th>\n",
       "      <td>0.010684</td>\n",
       "      <td>0.059829</td>\n",
       "      <td>0.076923</td>\n",
       "      <td>0.032051</td>\n",
       "      <td>0.025641</td>\n",
       "      <td>0.017094</td>\n",
       "      <td>0.076923</td>\n",
       "      <td>0.000000</td>\n",
       "      <td>0.057692</td>\n",
       "      <td>0.228632</td>\n",
       "      <td>0.036325</td>\n",
       "      <td>0.057692</td>\n",
       "      <td>0.019231</td>\n",
       "      <td>0.002137</td>\n",
       "      <td>0.047009</td>\n",
       "      <td>0.143162</td>\n",
       "      <td>0.108974</td>\n",
       "    </tr>\n",
       "    <tr>\n",
       "      <th>sad</th>\n",
       "      <td>0.035831</td>\n",
       "      <td>0.022801</td>\n",
       "      <td>0.081433</td>\n",
       "      <td>0.032573</td>\n",
       "      <td>0.009772</td>\n",
       "      <td>0.042345</td>\n",
       "      <td>0.068404</td>\n",
       "      <td>0.009772</td>\n",
       "      <td>0.061889</td>\n",
       "      <td>0.309446</td>\n",
       "      <td>0.032573</td>\n",
       "      <td>0.071661</td>\n",
       "      <td>0.019544</td>\n",
       "      <td>0.003257</td>\n",
       "      <td>0.055375</td>\n",
       "      <td>0.061889</td>\n",
       "      <td>0.081433</td>\n",
       "    </tr>\n",
       "  </tbody>\n",
       "</table>\n",
       "</div>"
      ],
      "text/plain": [
       "           christmas      dark  emotional  energetic   freedom     funny  \\\n",
       "christmas   0.217593  0.043981   0.050926   0.027778  0.011574  0.018519   \n",
       "dark        0.023649  0.158784   0.064189   0.037162  0.020270  0.016892   \n",
       "emotional   0.010479  0.034431   0.163174   0.029940  0.011976  0.028443   \n",
       "energetic   0.014265  0.044223   0.069900   0.031384  0.011412  0.032810   \n",
       "freedom     0.010499  0.034121   0.049869   0.034121  0.057743  0.018373   \n",
       "funny       0.006289  0.022013   0.091195   0.018868  0.025157  0.094340   \n",
       "grunge      0.011858  0.059289   0.055336   0.035573  0.015810  0.023715   \n",
       "halloween   0.015152  0.060606   0.068182   0.045455  0.007576  0.007576   \n",
       "happy       0.015564  0.038911   0.058366   0.042802  0.011673  0.054475   \n",
       "love        0.011737  0.024257   0.043818   0.019562  0.013302  0.010172   \n",
       "memory      0.009119  0.033435   0.085106   0.012158  0.006079  0.030395   \n",
       "party       0.015337  0.027607   0.052147   0.036810  0.012270  0.039877   \n",
       "political   0.023973  0.061644   0.071918   0.032534  0.018836  0.030822   \n",
       "rain        0.012658  0.037975   0.088608   0.025316  0.012658  0.000000   \n",
       "relax       0.020833  0.055556   0.097222   0.041667  0.000000  0.000000   \n",
       "religious   0.010684  0.059829   0.076923   0.032051  0.025641  0.017094   \n",
       "sad         0.035831  0.022801   0.081433   0.032573  0.009772  0.042345   \n",
       "\n",
       "             grunge  halloween     happy      love    memory     party  \\\n",
       "christmas  0.057870   0.006944  0.043981  0.215278  0.050926  0.055556   \n",
       "dark       0.074324   0.003378  0.054054  0.273649  0.033784  0.047297   \n",
       "emotional  0.068862   0.010479  0.047904  0.317365  0.043413  0.079341   \n",
       "energetic  0.064194   0.007133  0.089872  0.313837  0.057061  0.104137   \n",
       "freedom    0.060367   0.002625  0.065617  0.304462  0.065617  0.157480   \n",
       "funny      0.053459   0.012579  0.078616  0.267296  0.034591  0.125786   \n",
       "grunge     0.158103   0.000000  0.071146  0.229249  0.059289  0.059289   \n",
       "halloween  0.075758   0.106061  0.083333  0.189394  0.030303  0.075758   \n",
       "happy      0.062257   0.007782  0.101167  0.272374  0.050584  0.097276   \n",
       "love       0.035211   0.002347  0.064945  0.505477  0.049296  0.077465   \n",
       "memory     0.027356   0.000000  0.063830  0.306991  0.139818  0.082067   \n",
       "party      0.042945   0.006135  0.055215  0.239264  0.058282  0.279141   \n",
       "political  0.058219   0.005137  0.066781  0.208904  0.044521  0.099315   \n",
       "rain       0.050633   0.012658  0.075949  0.253165  0.050633  0.050633   \n",
       "relax      0.048611   0.000000  0.013889  0.381944  0.055556  0.069444   \n",
       "religious  0.076923   0.000000  0.057692  0.228632  0.036325  0.057692   \n",
       "sad        0.068404   0.009772  0.061889  0.309446  0.032573  0.071661   \n",
       "\n",
       "           political      rain     relax  religious       sad  \n",
       "christmas   0.034722  0.000000  0.023148   0.074074  0.067130  \n",
       "dark        0.064189  0.003378  0.013514   0.033784  0.077703  \n",
       "emotional   0.023952  0.004491  0.022455   0.047904  0.055389  \n",
       "energetic   0.018545  0.002853  0.025678   0.044223  0.068474  \n",
       "freedom     0.028871  0.002625  0.028871   0.018373  0.060367  \n",
       "funny       0.037736  0.003145  0.025157   0.031447  0.072327  \n",
       "grunge      0.039526  0.007905  0.031621   0.043478  0.098814  \n",
       "halloween   0.037879  0.000000  0.037879   0.053030  0.106061  \n",
       "happy       0.038911  0.003891  0.019455   0.050584  0.073930  \n",
       "love        0.008607  0.003130  0.023474   0.037559  0.069640  \n",
       "memory      0.024316  0.006079  0.051672   0.066869  0.054711  \n",
       "party       0.021472  0.006135  0.024540   0.015337  0.067485  \n",
       "political   0.085616  0.001712  0.041096   0.061644  0.087329  \n",
       "rain        0.012658  0.113924  0.037975   0.025316  0.139241  \n",
       "relax       0.013889  0.013889  0.055556   0.034722  0.097222  \n",
       "religious   0.019231  0.002137  0.047009   0.143162  0.108974  \n",
       "sad         0.019544  0.003257  0.055375   0.061889  0.081433  "
      ]
     },
     "execution_count": 81,
     "metadata": {},
     "output_type": "execute_result"
    }
   ],
   "source": [
    "normalized = conf_matrix.div(conf_matrix.sum(axis=1), axis=0)\n",
    "normalized"
   ]
  },
  {
   "cell_type": "code",
   "execution_count": 82,
   "metadata": {
    "collapsed": true
   },
   "outputs": [],
   "source": [
    "revise_col = [list(normalized.columns)[i] for i in range(len(normalized.columns)-1, -1, -1)]"
   ]
  },
  {
   "cell_type": "code",
   "execution_count": 83,
   "metadata": {
    "collapsed": false
   },
   "outputs": [
    {
     "data": {
      "image/png": "[encoded data removed]",
      "text/plain": [
       "<matplotlib.figure.Figure at 0x1223c11d0>"
      ]
     },
     "metadata": {},
     "output_type": "display_data"
    }
   ],
   "source": [
    "import seaborn as sns; sns.set()\n",
    "import matplotlib.pyplot as plt\n",
    "%matplotlib inline\n",
    "ax = sns.heatmap(normalized.values)\n",
    "ax.set_xticklabels(normalized.columns,rotation=90)\n",
    "ax.set_yticklabels(revise_col, rotation = 0)\n",
    "\n",
    "plt.gca().invert_yaxis()"
   ]
  },
  {
   "cell_type": "code",
   "execution_count": null,
   "metadata": {
    "collapsed": true
   },
   "outputs": [],
   "source": []
  }
 ],
 "metadata": {
  "kernelspec": {
   "display_name": "Python [Root]",
   "language": "python",
   "name": "Python [Root]"
  },
  "language_info": {
   "codemirror_mode": {
    "name": "ipython",
    "version": 2
   },
   "file_extension": ".py",
   "mimetype": "text/x-python",
   "name": "python",
   "nbconvert_exporter": "python",
   "pygments_lexer": "ipython2",
   "version": "2.7.12"
  }
 },
 "nbformat": 4,
 "nbformat_minor": 0
}
